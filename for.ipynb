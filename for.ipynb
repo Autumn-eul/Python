{
 "cells": [
  {
   "cell_type": "code",
   "execution_count": 1,
   "metadata": {},
   "outputs": [
    {
     "name": "stdout",
     "output_type": "stream",
     "text": [
      "반복하기\n",
      "0\n",
      "반복하기\n",
      "1\n",
      "반복하기\n",
      "2\n"
     ]
    }
   ],
   "source": [
    "for count in range(3):\n",
    "    print('반복하기')\n",
    "    print(count)"
   ]
  },
  {
   "cell_type": "code",
   "execution_count": 3,
   "metadata": {},
   "outputs": [
    {
     "name": "stdout",
     "output_type": "stream",
     "text": [
      "c\n",
      "h\n",
      "o\n",
      "o\n",
      "n\n",
      "s\n",
      "i\n",
      "k\n"
     ]
    }
   ],
   "source": [
    "# 문자형의 for 문 \n",
    "word = 'choonsik'\n",
    "for chara in word:\n",
    "    print(chara)"
   ]
  },
  {
   "cell_type": "code",
   "execution_count": 5,
   "metadata": {},
   "outputs": [
    {
     "name": "stdout",
     "output_type": "stream",
     "text": [
      "now playing...DEATH METAL\n",
      "now playing...ROCK\n",
      "now playing...ANIME\n",
      "now playing...POP\n"
     ]
    }
   ],
   "source": [
    "# for 문을 사용한 리스트형의 반복\n",
    "music_list = ['DEATH METAL', 'ROCK', 'ANIME', 'POP']\n",
    "for music in music_list:\n",
    "    print('now playing...' + music)"
   ]
  },
  {
   "cell_type": "code",
   "execution_count": 9,
   "metadata": {},
   "outputs": [
    {
     "name": "stdout",
     "output_type": "stream",
     "text": [
      "라면\n",
      "4000원\n",
      "김밥\n",
      "2500원\n",
      "만두\n",
      "3000원\n"
     ]
    }
   ],
   "source": [
    "# for 문을 사용한 사전형의 반복\n",
    "menu = {'라면' : 4000,\n",
    "        '김밥' : 2500,\n",
    "        '만두' : 3000}\n",
    "\n",
    "for order in menu:\n",
    "        print(order)\n",
    "        print(f'{menu[order]}원')"
   ]
  },
  {
   "cell_type": "code",
   "execution_count": 10,
   "metadata": {},
   "outputs": [
    {
     "name": "stdout",
     "output_type": "stream",
     "text": [
      "Good Morning !쿠키\n",
      "Wake up\n",
      "breakfast\n",
      "Good Morning !크림\n",
      "Wake up\n",
      "breakfast\n",
      "Good Morning !초코\n",
      "Wake up\n",
      "breakfast\n"
     ]
    }
   ],
   "source": [
    "family = ['쿠키', '크림', '초코']\n",
    "for kid in family:\n",
    "    print(\"Good Morning !\" + kid)\n",
    "    print(\"Wake up\")\n",
    "    print(\"breakfast\")\n",
    "    continue\n",
    "    print(\"Go to School\")"
   ]
  }
 ],
 "metadata": {
  "kernelspec": {
   "display_name": "Python 3",
   "language": "python",
   "name": "python3"
  },
  "language_info": {
   "codemirror_mode": {
    "name": "ipython",
    "version": 3
   },
   "file_extension": ".py",
   "mimetype": "text/x-python",
   "name": "python",
   "nbconvert_exporter": "python",
   "pygments_lexer": "ipython3",
   "version": "3.13.0"
  }
 },
 "nbformat": 4,
 "nbformat_minor": 2
}
