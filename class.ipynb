{
 "cells": [
  {
   "cell_type": "code",
   "execution_count": 2,
   "metadata": {},
   "outputs": [
    {
     "name": "stdout",
     "output_type": "stream",
     "text": [
      "red\n",
      "delicious\n"
     ]
    }
   ],
   "source": [
    "class fruit:\n",
    "    color = 'red'\n",
    "    def taste(self):\n",
    "        return 'delicious'\n",
    "    \n",
    "apple = fruit()\n",
    "print(apple.color)\n",
    "print (apple.taste())"
   ]
  },
  {
   "cell_type": "code",
   "execution_count": 3,
   "metadata": {},
   "outputs": [
    {
     "data": {
      "text/plain": [
       "2"
      ]
     },
     "execution_count": 3,
     "metadata": {},
     "output_type": "execute_result"
    }
   ],
   "source": [
    "color = 'green'\n",
    "color.count('e')"
   ]
  },
  {
   "cell_type": "code",
   "execution_count": 4,
   "metadata": {},
   "outputs": [
    {
     "data": {
      "text/plain": [
       "'GREEN'"
      ]
     },
     "execution_count": 4,
     "metadata": {},
     "output_type": "execute_result"
    }
   ],
   "source": [
    "color.upper()"
   ]
  },
  {
   "cell_type": "code",
   "execution_count": 6,
   "metadata": {},
   "outputs": [
    {
     "data": {
      "text/plain": [
       "'십만원'"
      ]
     },
     "execution_count": 6,
     "metadata": {},
     "output_type": "execute_result"
    }
   ],
   "source": [
    "class staff:\n",
    "    def salary(self):\n",
    "        return '십만원'\n",
    "    \n",
    "kim = staff()\n",
    "kim.salary()"
   ]
  },
  {
   "cell_type": "code",
   "execution_count": 8,
   "metadata": {},
   "outputs": [
    {
     "data": {
      "text/plain": [
       "40000"
      ]
     },
     "execution_count": 8,
     "metadata": {},
     "output_type": "execute_result"
    }
   ],
   "source": [
    "class staff:\n",
    "    bonus = 30000\n",
    "    def salary(self):\n",
    "        salary = 10000 + self.bonus\n",
    "        return salary\n",
    "    \n",
    "kim = staff()\n",
    "kim.salary()"
   ]
  },
  {
   "cell_type": "code",
   "execution_count": 10,
   "metadata": {},
   "outputs": [
    {
     "name": "stdout",
     "output_type": "stream",
     "text": [
      "15000\n",
      "40000\n"
     ]
    }
   ],
   "source": [
    "# __init__ 메소드\n",
    "class staff:\n",
    "    def __init__(self, bonus):\n",
    "        self.bonus = bonus\n",
    "    def salary(self):\n",
    "        salary = 10000 + self.bonus\n",
    "        return salary\n",
    "    \n",
    "kim = staff(5000)\n",
    "print(kim.salary())\n",
    "\n",
    "lee = staff(30000)\n",
    "print(lee.salary())\n"
   ]
  },
  {
   "cell_type": "code",
   "execution_count": null,
   "metadata": {},
   "outputs": [],
   "source": [
    "class staffInfo:\n",
    "    def __init__(self, staff_id):\n",
    "        self.staff_id = staff_id\n",
    "        def getWorkingHours(self):\n",
    "            "
   ]
  }
 ],
 "metadata": {
  "kernelspec": {
   "display_name": "Python 3",
   "language": "python",
   "name": "python3"
  },
  "language_info": {
   "codemirror_mode": {
    "name": "ipython",
    "version": 3
   },
   "file_extension": ".py",
   "mimetype": "text/x-python",
   "name": "python",
   "nbconvert_exporter": "python",
   "pygments_lexer": "ipython3",
   "version": "3.13.0"
  }
 },
 "nbformat": 4,
 "nbformat_minor": 2
}
