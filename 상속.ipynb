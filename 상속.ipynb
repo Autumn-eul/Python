{
 "cells": [
  {
   "cell_type": "code",
   "execution_count": null,
   "metadata": {},
   "outputs": [
    {
     "name": "stdout",
     "output_type": "stream",
     "text": [
      "강아지입니다\n",
      "걷기\n",
      "멍멍\n",
      "4\n"
     ]
    }
   ],
   "source": [
    "class animalBaseClass:\n",
    "    animallegs = 4\n",
    "    def walk(self):\n",
    "        print('걷기')\n",
    "\n",
    "    def cry(self):\n",
    "        print('멍멍')\n",
    "        \n",
    "    def getLegsNum(self):\n",
    "        print(self.animallegs)\n",
    "\n",
    "class dogClass(animalBaseClass):\n",
    "    def __init__(self):\n",
    "        print('강아지입니다')\n",
    "\n",
    "baduk = dogClass()\n",
    "baduk.walk()\n",
    "baduk.cry()\n",
    "baduk.getLegsNum()"
   ]
  },
  {
   "cell_type": "code",
   "execution_count": null,
   "metadata": {},
   "outputs": [
    {
     "name": "stdout",
     "output_type": "stream",
     "text": [
      "새입니다\n",
      "걷기\n",
      "짹짹\n"
     ]
    }
   ],
   "source": [
    "class animalBaseClass:\n",
    "    animallegs = 2\n",
    "    def walk(self):\n",
    "        print('걷기')\n",
    "\n",
    "    def cry(self):\n",
    "        print('울기')\n",
    "\n",
    "class birdClass(animalBaseClass):\n",
    "    def __init__(self):\n",
    "        print('새입니다')\n",
    "        \n",
    "    def cry(self):\n",
    "        print('짹짹')\n",
    "\n",
    "bird = birdClass()\n",
    "bird.walk()\n",
    "bird.cry()"
   ]
  },
  {
   "cell_type": "code",
   "execution_count": 6,
   "metadata": {},
   "outputs": [
    {
     "name": "stdout",
     "output_type": "stream",
     "text": [
      "뱀입니다\n",
      "0\n"
     ]
    }
   ],
   "source": [
    "class animalBaseClass:\n",
    "    def __init__(self, num):\n",
    "        self.animallegs = num\n",
    "    \n",
    "    def walk(self):\n",
    "        print('걷기')\n",
    "    \n",
    "    def cry(self):\n",
    "        print('울기')\n",
    "    \n",
    "    def getLegsNum(self):\n",
    "        print(self.animallegs)\n",
    "\n",
    "class snakeClass(animalBaseClass):\n",
    "    def __init__(self, num):\n",
    "        parent_class = super(snakeClass, self)\n",
    "        parent_class.__init__(num)\n",
    "        print('뱀입니다')\n",
    "\n",
    "nyoro = snakeClass(0)\n",
    "nyoro.getLegsNum()"
   ]
  },
  {
   "cell_type": "code",
   "execution_count": null,
   "metadata": {},
   "outputs": [],
   "source": [
    "# super(자식 클래스 이름, 인스턴스)"
   ]
  },
  {
   "cell_type": "code",
   "execution_count": 7,
   "metadata": {},
   "outputs": [
    {
     "name": "stdout",
     "output_type": "stream",
     "text": [
      "뱀입니다\n",
      "0\n"
     ]
    }
   ],
   "source": [
    "class snakeClass(animalBaseClass):\n",
    "    def __init__(self):\n",
    "        snake_legs = 0\n",
    "        parent_class = super(snakeClass, self)\n",
    "        parent_class.__init__(snake_legs)\n",
    "        print('뱀입니다')\n",
    "\n",
    "nyoro = snakeClass()\n",
    "nyoro.getLegsNum()"
   ]
  }
 ],
 "metadata": {
  "kernelspec": {
   "display_name": "Python 3",
   "language": "python",
   "name": "python3"
  },
  "language_info": {
   "codemirror_mode": {
    "name": "ipython",
    "version": 3
   },
   "file_extension": ".py",
   "mimetype": "text/x-python",
   "name": "python",
   "nbconvert_exporter": "python",
   "pygments_lexer": "ipython3",
   "version": "3.13.0"
  }
 },
 "nbformat": 4,
 "nbformat_minor": 2
}
