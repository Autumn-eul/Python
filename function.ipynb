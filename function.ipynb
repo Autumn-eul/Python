{
 "cells": [
  {
   "cell_type": "code",
   "execution_count": 1,
   "metadata": {},
   "outputs": [
    {
     "name": "stdout",
     "output_type": "stream",
     "text": [
      "급수한다\n",
      "씻는다\n",
      "헹군다\n",
      "탈수한다\n",
      "건조한다\n"
     ]
    }
   ],
   "source": [
    "def washingMachine():\n",
    "    print('급수한다')\n",
    "    print('씻는다')\n",
    "    print('헹군다')\n",
    "    print('탈수한다')\n",
    "    print('건조한다')\n",
    "\n",
    "washingMachine()"
   ]
  },
  {
   "cell_type": "code",
   "execution_count": null,
   "metadata": {},
   "outputs": [],
   "source": [
    "def softWash():\n",
    "    print('급수한다')\n",
    "    print('부드럽게 씻는다')\n",
    "    print('헹군다')\n",
    "    print('탈수한다')\n",
    "    print('건조한다')"
   ]
  },
  {
   "cell_type": "code",
   "execution_count": 2,
   "metadata": {},
   "outputs": [
    {
     "name": "stdout",
     "output_type": "stream",
     "text": [
      "부드럽게 씻는다\n"
     ]
    }
   ],
   "source": [
    "mode = 'soft'\n",
    "if (mode == 'soft'):\n",
    "    print('부드럽게 씻는다')\n",
    "elif (mode == 'hard'):\n",
    "    print('세게 씻는다')\n",
    "else:\n",
    "    print('씻는다')"
   ]
  },
  {
   "cell_type": "code",
   "execution_count": 3,
   "metadata": {},
   "outputs": [
    {
     "name": "stdout",
     "output_type": "stream",
     "text": [
      "급수한다\n",
      "부드럽게 씻는다\n",
      "급수한다\n",
      "세게 씻는다\n",
      "급수한다\n",
      "씻는다\n"
     ]
    }
   ],
   "source": [
    "def washingMachine(mode):\n",
    "    print('급수한다')\n",
    "    if (mode == 'soft'):\n",
    "        print('부드럽게 씻는다')\n",
    "    elif (mode == 'hard'):\n",
    "        print('세게 씻는다')\n",
    "    else:\n",
    "        print('씻는다')\n",
    "\n",
    "washingMachine('soft')\n",
    "washingMachine('hard')\n",
    "washingMachine('normal')"
   ]
  },
  {
   "cell_type": "code",
   "execution_count": 4,
   "metadata": {},
   "outputs": [
    {
     "data": {
      "text/plain": [
       "78.5"
      ]
     },
     "execution_count": 4,
     "metadata": {},
     "output_type": "execute_result"
    }
   ],
   "source": [
    "def area(radius):\n",
    "    result = radius * radius * 3.14\n",
    "    return result\n",
    "\n",
    "area(5)"
   ]
  },
  {
   "cell_type": "code",
   "execution_count": 5,
   "metadata": {},
   "outputs": [
    {
     "name": "stdout",
     "output_type": "stream",
     "text": [
      "78.5\n",
      "314.0\n"
     ]
    }
   ],
   "source": [
    "small = area(5)\n",
    "big = area(10)\n",
    "\n",
    "print(small)\n",
    "print(big)"
   ]
  }
 ],
 "metadata": {
  "kernelspec": {
   "display_name": "Python 3",
   "language": "python",
   "name": "python3"
  },
  "language_info": {
   "codemirror_mode": {
    "name": "ipython",
    "version": 3
   },
   "file_extension": ".py",
   "mimetype": "text/x-python",
   "name": "python",
   "nbconvert_exporter": "python",
   "pygments_lexer": "ipython3",
   "version": "3.13.0"
  }
 },
 "nbformat": 4,
 "nbformat_minor": 2
}
