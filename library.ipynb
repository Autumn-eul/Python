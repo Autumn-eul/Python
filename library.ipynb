{
 "cells": [
  {
   "cell_type": "code",
   "execution_count": null,
   "metadata": {},
   "outputs": [
    {
     "name": "stdout",
     "output_type": "stream",
     "text": [
      "   December 2024\n",
      "Mo Tu We Th Fr Sa Su\n",
      "                   1\n",
      " 2  3  4  5  6  7  8\n",
      " 9 10 11 12 13 14 15\n",
      "16 17 18 19 20 21 22\n",
      "23 24 25 26 27 28 29\n",
      "30 31\n",
      "\n"
     ]
    }
   ],
   "source": [
    "# import\n",
    "import calendar\n",
    "print(calendar.month(2024, 12))"
   ]
  },
  {
   "cell_type": "code",
   "execution_count": null,
   "metadata": {},
   "outputs": [
    {
     "name": "stdout",
     "output_type": "stream",
     "text": [
      "    January 2025\n",
      "Mo Tu We Th Fr Sa Su\n",
      "       1  2  3  4  5\n",
      " 6  7  8  9 10 11 12\n",
      "13 14 15 16 17 18 19\n",
      "20 21 22 23 24 25 26\n",
      "27 28 29 30 31\n",
      "\n"
     ]
    }
   ],
   "source": [
    "# as\n",
    "import calendar as cal\n",
    "print(cal.month(2025, 1))"
   ]
  },
  {
   "cell_type": "code",
   "execution_count": 4,
   "metadata": {},
   "outputs": [
    {
     "name": "stdout",
     "output_type": "stream",
     "text": [
      "   December 2024\n",
      "Mo Tu We Th Fr Sa Su\n",
      "                   1\n",
      " 2  3  4  5  6  7  8\n",
      " 9 10 11 12 13 14 15\n",
      "16 17 18 19 20 21 22\n",
      "23 24 25 26 27 28 29\n",
      "30 31\n",
      "\n"
     ]
    },
    {
     "data": {
      "text/plain": [
       "False"
      ]
     },
     "execution_count": 4,
     "metadata": {},
     "output_type": "execute_result"
    }
   ],
   "source": [
    "# from\n",
    "# from 패키지(모듈 이름) import 모듈 이름(클래스 이름, 함수 등)\n",
    "\n",
    "from calendar import month, isleap # isleap 함수 - 윤년 : True / 아닐 경우 : False\n",
    "print(month(2024, 12))\n",
    "isleap(2025)"
   ]
  },
  {
   "cell_type": "markdown",
   "metadata": {},
   "source": [
    "#### from 사용과 미사용의 차이"
   ]
  },
  {
   "cell_type": "code",
   "execution_count": null,
   "metadata": {},
   "outputs": [
    {
     "data": {
      "text/plain": [
       "False"
      ]
     },
     "execution_count": 5,
     "metadata": {},
     "output_type": "execute_result"
    }
   ],
   "source": [
    "# from 미사용\n",
    "import calendar\n",
    "calendar.isleap(2025)"
   ]
  },
  {
   "cell_type": "code",
   "execution_count": 6,
   "metadata": {},
   "outputs": [
    {
     "data": {
      "text/plain": [
       "False"
      ]
     },
     "execution_count": 6,
     "metadata": {},
     "output_type": "execute_result"
    }
   ],
   "source": [
    "# from 사용\n",
    "from calendar import isleap\n",
    "isleap(2025)"
   ]
  },
  {
   "cell_type": "markdown",
   "metadata": {},
   "source": [
    "#### 시간 / 날짜 관련 표준 라이브러리"
   ]
  },
  {
   "cell_type": "code",
   "execution_count": null,
   "metadata": {},
   "outputs": [
    {
     "data": {
      "text/plain": [
       "datetime.date(2024, 12, 8)"
      ]
     },
     "execution_count": 7,
     "metadata": {},
     "output_type": "execute_result"
    }
   ],
   "source": [
    "# datetime 모듈\n",
    "# 오늘 날짜\n",
    "from datetime import date\n",
    "date.today()"
   ]
  },
  {
   "cell_type": "code",
   "execution_count": 11,
   "metadata": {},
   "outputs": [
    {
     "name": "stdout",
     "output_type": "stream",
     "text": [
      "20241208\n",
      "24/12/08\n",
      "2024년 12월 08일\n",
      "2024 December 08 Sun\n"
     ]
    }
   ],
   "source": [
    "# date형 데이터를 문자열로 변환\n",
    "from datetime import date\n",
    "today = date.today()\n",
    "print(today.strftime('%Y%m%d'))\n",
    "print(today.strftime('%y/%m/%d'))\n",
    "print(today.strftime('%Y년 %m월 %d일'))\n",
    "print(today.strftime('%Y %B %d %a'))"
   ]
  },
  {
   "cell_type": "markdown",
   "metadata": {},
   "source": [
    "%Y : 서기 연도를 네 자릿수로 표시\n",
    "\n",
    "%y : 서기 연도를 두 자릿수로 표시\n",
    "\n",
    "%m : 달을 두 자릿수로 표시\n",
    "\n",
    "%B : 달을 영어로 표시\n",
    "\n",
    "%b : 달을 영어로 단축하여 표시\n",
    "\n",
    "%A : 요일을 영어로 표시\n",
    "\n",
    "%a : 요일을 단축하여 영어로 표시"
   ]
  },
  {
   "cell_type": "code",
   "execution_count": 12,
   "metadata": {},
   "outputs": [
    {
     "data": {
      "text/plain": [
       "datetime.datetime(2024, 12, 8, 0, 20, 33, 884683)"
      ]
     },
     "execution_count": 12,
     "metadata": {},
     "output_type": "execute_result"
    }
   ],
   "source": [
    "# 오늘 날짜와 현재 시간\n",
    "from datetime import datetime\n",
    "datetime.now()"
   ]
  },
  {
   "cell_type": "code",
   "execution_count": 13,
   "metadata": {},
   "outputs": [
    {
     "data": {
      "text/plain": [
       "'2024-12-08 00:21:41'"
      ]
     },
     "execution_count": 13,
     "metadata": {},
     "output_type": "execute_result"
    }
   ],
   "source": [
    "from datetime import datetime as dt\n",
    "now = dt.now()\n",
    "now.strftime('%Y-%m-%d %H:%M:%S')"
   ]
  },
  {
   "cell_type": "markdown",
   "metadata": {},
   "source": [
    "%H : 24시간 표기로 시간을 표시\n",
    "\n",
    "%I : 12시간 표기로 시간을 표시\n",
    "\n",
    "%p : AM / PM 표시\n",
    "\n",
    "%M : 분을 두 자릿수로 표시\n",
    "\n",
    "%S : 초를 두 자릿수로 표시\n",
    "\n",
    "%f : 마이크로초를 6자릿수로 표시"
   ]
  },
  {
   "cell_type": "code",
   "execution_count": 14,
   "metadata": {},
   "outputs": [
    {
     "name": "stdout",
     "output_type": "stream",
     "text": [
      "2024-12-08\n",
      "2024-12-15\n",
      "2024-12-01\n"
     ]
    }
   ],
   "source": [
    "# 일주일 후의 날짜\n",
    "from datetime import date, timedelta\n",
    "today = date.today()\n",
    "print(today)\n",
    "\n",
    "one_week = timedelta(days = 7)\n",
    "print(today + one_week)\n",
    "print(today - one_week)"
   ]
  },
  {
   "cell_type": "markdown",
   "metadata": {},
   "source": [
    "#### zip 파일을 만들거나 압축 풀기"
   ]
  },
  {
   "cell_type": "code",
   "execution_count": null,
   "metadata": {},
   "outputs": [],
   "source": [
    "# 압축을 푸는 방법\n",
    "import zipfile\n",
    "files = zipfile.ZipFile('압축된 파일 명.zip') # 경로를 잘 표시해 줘야함\n",
    "files.namelist() # 어떠한 파일이 압축되어 있는지 확인할 수 있음\n",
    "files.extract('압축 풀기 원하는 파일 명') # extract 메소드를 사용하면 원하는 파일만 압축을 풀 수 있음"
   ]
  },
  {
   "cell_type": "code",
   "execution_count": null,
   "metadata": {},
   "outputs": [],
   "source": [
    "# 압축하기\n",
    "import zipfile\n",
    "zip_file = zipfile.Zipfile('압축 후 파일 명.zip', mode = 'w') # w 는 압축하여 새로운 파일을 쓴다는 뜻\n",
    "zip_file.write('압축할 파일', '어떤 이름으로 압축할지 지정')\n",
    "zip_file.close() # 처리 종료\n",
    "file = zipfile.ZipFile('압축 후 파일 명.zip')\n",
    "file.namelist() # 압축이 잘 되었는지 확인"
   ]
  }
 ],
 "metadata": {
  "kernelspec": {
   "display_name": "Python 3",
   "language": "python",
   "name": "python3"
  },
  "language_info": {
   "codemirror_mode": {
    "name": "ipython",
    "version": 3
   },
   "file_extension": ".py",
   "mimetype": "text/x-python",
   "name": "python",
   "nbconvert_exporter": "python",
   "pygments_lexer": "ipython3",
   "version": "3.13.0"
  }
 },
 "nbformat": 4,
 "nbformat_minor": 2
}
