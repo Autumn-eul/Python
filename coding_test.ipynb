{
 "cells": [
  {
   "cell_type": "code",
   "execution_count": 11,
   "metadata": {},
   "outputs": [
    {
     "data": {
      "text/plain": [
       "4"
      ]
     },
     "execution_count": 11,
     "metadata": {},
     "output_type": "execute_result"
    }
   ],
   "source": [
    "def Quadrant():\n",
    "    a = int(input())\n",
    "    b = int(input())\n",
    "    if a * b > 0:\n",
    "        if a > 0:\n",
    "            return 1\n",
    "        else:\n",
    "            return 3\n",
    "    elif a > 0:\n",
    "        return 4\n",
    "    elif a < 0:\n",
    "        return 2\n",
    "\n",
    "Quadrant()\n"
   ]
  },
  {
   "cell_type": "code",
   "execution_count": 13,
   "metadata": {},
   "outputs": [
    {
     "data": {
      "text/plain": [
       "3"
      ]
     },
     "execution_count": 13,
     "metadata": {},
     "output_type": "execute_result"
    }
   ],
   "source": [
    "def qua():\n",
    "    a = int(input())\n",
    "    b = int(input())\n",
    "    if a > 0 and b > 0:\n",
    "        return 1\n",
    "    elif a < 0 and b > 0:\n",
    "        return 2\n",
    "    elif a < 0 and b < 0:\n",
    "        return 3\n",
    "    elif a > 0 and b < 0:\n",
    "        return 4\n",
    "    \n",
    "qua()"
   ]
  }
 ],
 "metadata": {
  "kernelspec": {
   "display_name": "Python 3",
   "language": "python",
   "name": "python3"
  },
  "language_info": {
   "codemirror_mode": {
    "name": "ipython",
    "version": 3
   },
   "file_extension": ".py",
   "mimetype": "text/x-python",
   "name": "python",
   "nbconvert_exporter": "python",
   "pygments_lexer": "ipython3",
   "version": "3.13.0"
  }
 },
 "nbformat": 4,
 "nbformat_minor": 2
}
