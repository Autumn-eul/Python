{
 "cells": [
  {
   "cell_type": "code",
   "execution_count": null,
   "metadata": {},
   "outputs": [],
   "source": [
    "# 1. 18세 미만은 이 영화를 볼 수 없다.\n",
    "# 2. 18세 이상 59세 이하의 손님은 8000원\n",
    "# 3. 60세 이상 손님은 5000원\n",
    "# 4. 포인트 카드를 가지고 있고 지금까지 5편의 영화를 본 손님은 5000원\n",
    "\n",
    "'''\n",
    "if(18세 미만):\n",
    "    티켓을 판매할 수 없습니다.\n",
    "elif(60세 이상):\n",
    "    티켓은 5000원 입니다.\n",
    "elif(5편 관람한 할인 대상자):\n",
    "    티켓은 5000원 입니다.\n",
    "else:\n",
    "    티켓은 8000원 입니다.\n",
    "\n",
    "\n",
    "# 처리가 같은 것을 묶는다면?\n",
    "\n",
    "if(18세 미만):\n",
    "    티켓을 판매할 수 없습니다.\n",
    "elif(60세 이상 or 5편 관람한 할인 대상자):\n",
    "    티켓은 5000원 입니다.\n",
    "else:\n",
    "    티켓은 8000원 입니다.\n",
    "'''"
   ]
  },
  {
   "cell_type": "code",
   "execution_count": 1,
   "metadata": {},
   "outputs": [
    {
     "name": "stdout",
     "output_type": "stream",
     "text": [
      "티켓은 5000원 입니다.\n"
     ]
    }
   ],
   "source": [
    "age = 27\n",
    "pointcard = True\n",
    "count = 5\n",
    "\n",
    "if(age < 18):\n",
    "    print(\"티켓을 판매할 수 없습니다.\")\n",
    "elif((age >= 60) or ((pointcard == True) and (count >= 5))):\n",
    "    print(\"티켓은 5000원 입니다.\")\n",
    "else:\n",
    "    print(\"티켓은 8000원 입니다.\")"
   ]
  }
 ],
 "metadata": {
  "kernelspec": {
   "display_name": "Python 3",
   "language": "python",
   "name": "python3"
  },
  "language_info": {
   "codemirror_mode": {
    "name": "ipython",
    "version": 3
   },
   "file_extension": ".py",
   "mimetype": "text/x-python",
   "name": "python",
   "nbconvert_exporter": "python",
   "pygments_lexer": "ipython3",
   "version": "3.13.0"
  }
 },
 "nbformat": 4,
 "nbformat_minor": 2
}
