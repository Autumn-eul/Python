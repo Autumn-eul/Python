{
 "cells": [
  {
   "cell_type": "code",
   "execution_count": 1,
   "metadata": {},
   "outputs": [
    {
     "name": "stdout",
     "output_type": "stream",
     "text": [
      "{'apple', 'soda', 'peach'}\n",
      "{'apple', 'soda', 'peach', 'grape'}\n"
     ]
    }
   ],
   "source": [
    "flavor = ['apple', 'peach', 'soda']\n",
    "candy = set(flavor)\n",
    "print(candy)\n",
    "\n",
    "candy.update(['grape'])\n",
    "print(candy)"
   ]
  },
  {
   "cell_type": "code",
   "execution_count": 2,
   "metadata": {},
   "outputs": [
    {
     "name": "stdout",
     "output_type": "stream",
     "text": [
      "{'apple', 'soda', 'chocolate', 'grape'}\n",
      "['apple', 'soda', 'chocolate', 'grape']\n"
     ]
    }
   ],
   "source": [
    "flavor = ['apple', 'soda', 'chocolate', 'apple', 'grape', 'grape', 'soda']\n",
    "\n",
    "flavor_set = set(flavor)\n",
    "print(flavor_set)\n",
    "\n",
    "flavor = list(flavor_set)\n",
    "print(flavor)"
   ]
  },
  {
   "cell_type": "code",
   "execution_count": 3,
   "metadata": {},
   "outputs": [
    {
     "name": "stdout",
     "output_type": "stream",
     "text": [
      "{'peach'}\n",
      "{'chocolate'}\n",
      "{'apple', 'soda'}\n"
     ]
    }
   ],
   "source": [
    "flavor_set_A = {'apple', 'peach', 'soda'}\n",
    "flavor_set_B = {'apple', 'soda', 'chocolate'}\n",
    "\n",
    "print(flavor_set_A - flavor_set_B)\n",
    "print(flavor_set_B - flavor_set_A)\n",
    "print(flavor_set_A & flavor_set_B)"
   ]
  }
 ],
 "metadata": {
  "kernelspec": {
   "display_name": "Python 3",
   "language": "python",
   "name": "python3"
  },
  "language_info": {
   "codemirror_mode": {
    "name": "ipython",
    "version": 3
   },
   "file_extension": ".py",
   "mimetype": "text/x-python",
   "name": "python",
   "nbconvert_exporter": "python",
   "pygments_lexer": "ipython3",
   "version": "3.13.0"
  }
 },
 "nbformat": 4,
 "nbformat_minor": 2
}
